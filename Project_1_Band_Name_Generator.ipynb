{
  "nbformat": 4,
  "nbformat_minor": 0,
  "metadata": {
    "colab": {
      "provenance": []
    },
    "kernelspec": {
      "name": "python3",
      "display_name": "Python 3"
    },
    "language_info": {
      "name": "python"
    }
  },
  "cells": [
    {
      "cell_type": "code",
      "execution_count": null,
      "metadata": {
        "id": "VfbKCGE8vzx1"
      },
      "outputs": [],
      "source": []
    },
    {
      "cell_type": "code",
      "source": [],
      "metadata": {
        "id": "Rr5Pph0bx4ra"
      },
      "execution_count": null,
      "outputs": []
    },
    {
      "cell_type": "markdown",
      "source": [
        "#Project 1 - Band Name Generator"
      ],
      "metadata": {
        "id": "B3WhBE3bwZ9x"
      }
    },
    {
      "cell_type": "code",
      "source": [
        "print(\"Hello Visitor to the Band Name Generator\")\n",
        "city = input(\"What is the name of the city you grew up in?: \\n\")\n",
        "pet = input(\"What is the name of your pet and if you do not currently have a pet, what name will you give to your future pet?: \\n\")\n",
        "print(\"Your Band Name could be \" + city + \" \" + pet)"
      ],
      "metadata": {
        "colab": {
          "base_uri": "https://localhost:8080/"
        },
        "id": "gC7amPztwduM",
        "outputId": "5810fc09-1630-4455-b53f-4f01a2aeee41"
      },
      "execution_count": 5,
      "outputs": [
        {
          "output_type": "stream",
          "name": "stdout",
          "text": [
            "Hello Visitor to the Band Name Generator\n",
            "What is the name of the city you grew up in?: \n",
            "Fathepur\n",
            "What is the name of your pet and if you do not currently have a pet, what name will you give to your future pet?: \n",
            "Drogon\n",
            "Your Band Name could be Fathepur Drogon\n"
          ]
        }
      ]
    },
    {
      "cell_type": "code",
      "source": [],
      "metadata": {
        "id": "lXCBlHcJxE6W"
      },
      "execution_count": null,
      "outputs": []
    }
  ]
}